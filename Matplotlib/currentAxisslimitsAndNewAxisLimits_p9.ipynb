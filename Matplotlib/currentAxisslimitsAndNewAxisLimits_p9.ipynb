{
 "cells": [
  {
   "cell_type": "markdown",
   "metadata": {},
   "source": [
    "'''\n",
    "@Author: Suresh\n",
    "@Date: 2024-08-02\n",
    "@Last Modified by: Suresh\n",
    "@Last Modified: 2024-08-02\n",
    "@Title : Python program to display the current axis limits values and set new axis values.\n",
    "\n",
    "'''"
   ]
  },
  {
   "cell_type": "code",
   "execution_count": 5,
   "metadata": {},
   "outputs": [
    {
     "name": "stderr",
     "output_type": "stream",
     "text": [
      "2024-08-02 22:20:11,454:INFO:currentAxisslimitsAndNewAxisLimits_p9.ipynb:insdie main method\n",
      "2024-08-02 22:20:11,454:INFO:currentAxisslimitsAndNewAxisLimits_p9.ipynb:insdie main method\n",
      "2024-08-02 22:20:11,460:INFO:currentAxisslimitsAndNewAxisLimits_p9.ipynb:calling draw_line method\n",
      "2024-08-02 22:20:11,460:INFO:currentAxisslimitsAndNewAxisLimits_p9.ipynb:calling draw_line method\n",
      "2024-08-02 22:20:11,460:INFO:currentAxisslimitsAndNewAxisLimits_p9.ipynb:inside draw_line method\n",
      "2024-08-02 22:20:11,460:INFO:currentAxisslimitsAndNewAxisLimits_p9.ipynb:inside draw_line method\n",
      "2024-08-02 22:20:11,471:DEBUG:currentAxisslimitsAndNewAxisLimits_p9.ipynb:\n",
      "   x   y\n",
      "0  0   0\n",
      "1  1   1\n",
      "2  2   4\n",
      "3  3   9\n",
      "4  4  16\n",
      "5  5  25\n",
      "2024-08-02 22:20:11,471:DEBUG:currentAxisslimitsAndNewAxisLimits_p9.ipynb:\n",
      "   x   y\n",
      "0  0   0\n",
      "1  1   1\n",
      "2  2   4\n",
      "3  3   9\n",
      "4  4  16\n",
      "5  5  25\n",
      "2024-08-02 22:20:11,487:INFO:currentAxisslimitsAndNewAxisLimits_p9.ipynb:plotting the results\n",
      "2024-08-02 22:20:11,487:INFO:currentAxisslimitsAndNewAxisLimits_p9.ipynb:plotting the results\n",
      "2024-08-02 22:20:11,487:INFO:currentAxisslimitsAndNewAxisLimits_p9.ipynb:labellig the x-axis and y-axis\n",
      "2024-08-02 22:20:11,487:INFO:currentAxisslimitsAndNewAxisLimits_p9.ipynb:labellig the x-axis and y-axis\n"
     ]
    },
    {
     "name": "stdout",
     "output_type": "stream",
     "text": [
      "Current X-axis limits: (np.float64(-0.25), np.float64(5.25))\n",
      "Current Y-axis limits: (np.float64(-1.25), np.float64(26.25))\n"
     ]
    },
    {
     "data": {
      "image/png": "[encoded data removed]",
      "text/plain": [
       "<Figure size 640x480 with 1 Axes>"
      ]
     },
     "metadata": {},
     "output_type": "display_data"
    }
   ],
   "source": [
    "import matplotlib.pyplot as plt\n",
    "import pandas as pd\n",
    "import myloggingfile as mlf\n",
    "\n",
    "logger = mlf.logger_init(\"currentAxisslimitsAndNewAxisLimits_p9.ipynb\")\n",
    "\n",
    "def draw_line(data):\n",
    "\n",
    "    \"\"\"\n",
    "    Description : Function to display the current axis limits values and set new axis values.\n",
    "    Parameters : \n",
    "        data : Function that converts the data into a tabular format and then uses this\n",
    "                data to plot the x-axis and y-axis.\n",
    "    Returns :\n",
    "        None :\n",
    "    \"\"\"\n",
    "\n",
    "    logger.info(\"inside draw_line method\")\n",
    "    \n",
    "    df = pd.DataFrame(data)\n",
    "    logger.debug(f\"\\n{df}\")\n",
    "\n",
    "    plt.plot(df['x'],df['y'], color='blue',marker='o')\n",
    "\n",
    "    logger.info(\"plotting the results\")\n",
    "    current_xlim = plt.gca().get_xlim()\n",
    "    current_ylim = plt.gca().get_ylim()\n",
    "\n",
    "    print(f\"Current X-axis limits: {current_xlim}\")\n",
    "    print(f\"Current Y-axis limits: {current_ylim}\")\n",
    "    \n",
    "    new_xlim = (0, 6)\n",
    "    new_ylim = (-5, 30)\n",
    "\n",
    "    plt.xlim(new_xlim)\n",
    "    plt.ylim(new_ylim)\n",
    "\n",
    "    plt.xlabel('X-axis')\n",
    "    plt.ylabel('Y-axis')\n",
    "    logger.info(\"labellig the x-axis and y-axis\")\n",
    "\n",
    " \n",
    "    plt.grid()\n",
    "    plt.show()\n",
    "\n",
    "\n",
    "def main():\n",
    "\n",
    "    logger.info(\"insdie main method\")\n",
    "\n",
    "    data = {\n",
    "             'x':[0, 1, 2, 3, 4, 5],\n",
    "             'y':[0, 1, 4, 9, 16, 25]\n",
    "            }\n",
    "    \n",
    "    logger.info(\"calling draw_line method\")\n",
    "    draw_line(data)\n",
    "\n",
    "if __name__ == '__main__':\n",
    "    main()"
   ]
  }
 ],
 "metadata": {
  "kernelspec": {
   "display_name": "Python 3",
   "language": "python",
   "name": "python3"
  },
  "language_info": {
   "codemirror_mode": {
    "name": "ipython",
    "version": 3
   },
   "file_extension": ".py",
   "mimetype": "text/x-python",
   "name": "python",
   "nbconvert_exporter": "python",
   "pygments_lexer": "ipython3",
   "version": "3.12.4"
  }
 },
 "nbformat": 4,
 "nbformat_minor": 2
}

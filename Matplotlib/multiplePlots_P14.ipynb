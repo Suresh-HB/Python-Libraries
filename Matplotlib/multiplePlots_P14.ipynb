{
 "cells": [
  {
   "cell_type": "markdown",
   "metadata": {},
   "source": [
    "'''\n",
    "@Author: Suresh\n",
    "@Date: 2024-08-02\n",
    "@Last Modified by: Suresh\n",
    "@Last Modified: 2024-08-02\n",
    "@Title : Python program to create multiple plots.\n",
    "\n",
    "'''"
   ]
  },
  {
   "cell_type": "code",
   "execution_count": 1,
   "metadata": {},
   "outputs": [
    {
     "data": {
      "image/png": "[encoded data removed]",
      "text/plain": [
       "<Figure size 640x480 with 4 Axes>"
      ]
     },
     "metadata": {},
     "output_type": "display_data"
    }
   ],
   "source": [
    "import matplotlib.pyplot as plt\n",
    "import pandas as pd\n",
    "import myloggingfile as mlf\n",
    "\n",
    "def main():\n",
    "    \n",
    "    logger.info(\"inside main mehtod\")\n",
    "    logger = mlf.logger_init(\"multiplePlots_P14.ipynb\")\n",
    "    \n",
    "    fig = plt.figure()\n",
    "    fig.subplots_adjust(bottom=0.020, left=0.020, top = 0.900, right=0.800)\n",
    "\n",
    "    plt.subplot(2, 1, 1)\n",
    "    plt.xticks(()), plt.yticks(())\n",
    "\n",
    "    plt.subplot(2, 3, 4)\n",
    "    plt.xticks(())\n",
    "    plt.yticks(())\n",
    "\n",
    "    plt.subplot(2, 3, 5)\n",
    "    plt.xticks(())\n",
    "    plt.yticks(())\n",
    "\n",
    "    plt.subplot(2, 3, 6)\n",
    "    plt.xticks(())\n",
    "    plt.yticks(())\n",
    "\n",
    "    plt.show()\n",
    "\n",
    "\n",
    "if __name__ == '__main__':\n",
    "    main()"
   ]
  }
 ],
 "metadata": {
  "kernelspec": {
   "display_name": "Python 3",
   "language": "python",
   "name": "python3"
  },
  "language_info": {
   "codemirror_mode": {
    "name": "ipython",
    "version": 3
   },
   "file_extension": ".py",
   "mimetype": "text/x-python",
   "name": "python",
   "nbconvert_exporter": "python",
   "pygments_lexer": "ipython3",
   "version": "3.12.4"
  }
 },
 "nbformat": 4,
 "nbformat_minor": 2
}

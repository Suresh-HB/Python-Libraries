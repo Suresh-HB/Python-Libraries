{
 "cells": [
  {
   "cell_type": "markdown",
   "metadata": {},
   "source": [
    "'''\n",
    "@Author: Suresh\n",
    "@Date: 2024-08-02\n",
    "@Last Modified by: Suresh\n",
    "@Last Modified: 2024-08-02\n",
    "@Title : Python program to display the grid and draw line charts of the closing value of\n",
    "        Alphabet Inc. between October 3, 2016 to October 7, 2016. Customized the grid lines with\n",
    "        linestyle -, width .5. and color blue.\n",
    "\n",
    "'''"
   ]
  },
  {
   "cell_type": "code",
   "execution_count": null,
   "metadata": {},
   "outputs": [],
   "source": [
    "import matplotlib.pyplot as plt\n",
    "import pandas as pd\n",
    "import myloggingfile as mlf\n",
    "\n",
    "logger = mlf.logger_init(\"closingValueOfAlphabetInc_P13.ipynb\")\n",
    "\n",
    "def  grid_chart(data):\n",
    "\n",
    "    \"\"\"\n",
    "    Description : Function to display the grid and draw line charts of the closing value of Alphabet Inc. \n",
    "                Between October 3, 2016 to October 7, 2016. Customized the grid lines with linestyle -, width .5. and color blue.\n",
    "    Parameters : \n",
    "        data : Function that converts the data into a tabular format and then uses this data to plot the x-axis and y-axis.\n",
    "    Returns :\n",
    "        None :\n",
    "    \"\"\"\n",
    "\n",
    "    logger.info(\"inside grid_chart method\")\n",
    "    df = pd.DataFrame(data)\n",
    "\n",
    "    plt.figure(figsize=(10, 6))\n",
    "    plt.plot(df['Date'],df['Close'], linestyle='-', linewidth=0.5, color='blue', label='Closing value', marker='o')\n",
    "    plt.grid(linestyle='-', linewidth=0.5, color='blue')\n",
    "    logger.info(\"plotting the grid lines\")\n",
    "    \n",
    "    plt.title('Closing Values of Alphabet Inc. (Oct 3, 2016 - Oct 7, 2016)')\n",
    "    plt.xlabel('Date')\n",
    "    plt.ylabel('Closing Value (USD)')\n",
    "    plt.legend()\n",
    "    \n",
    "    plt.xticks(rotation=45)  \n",
    "    plt.tight_layout()\n",
    "    plt.show()\n",
    "\n",
    "\n",
    "def main():\n",
    "\n",
    "    logger.info(\"inside main method\")\n",
    "    \n",
    "    data = pd.read_csv(\"Alpha.csv\")\n",
    "    logger.info(\"calling grid_chart method\")\n",
    "    grid_chart(data)\n",
    "\n",
    "\n",
    "\n",
    "if __name__=='__main__':\n",
    "    main()"
   ]
  }
 ],
 "metadata": {
  "kernelspec": {
   "display_name": "Python 3",
   "language": "python",
   "name": "python3"
  },
  "language_info": {
   "codemirror_mode": {
    "name": "ipython",
    "version": 3
   },
   "file_extension": ".py",
   "mimetype": "text/x-python",
   "name": "python",
   "nbconvert_exporter": "python",
   "pygments_lexer": "ipython3",
   "version": "3.12.4"
  }
 },
 "nbformat": 4,
 "nbformat_minor": 2
}

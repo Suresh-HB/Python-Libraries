{
 "cells": [
  {
   "cell_type": "markdown",
   "metadata": {},
   "source": [
    "'''\n",
    "@Author: Suresh\n",
    "@Date: 2024-08-06\n",
    "@Last Modified by: Suresh \n",
    "@Last Modified: 2024-08-06\n",
    "@Title : Python programming to create a pie chart of gold medal achievements of five most\n",
    "successful countries in 2016 Summer Olympics. Read the data from a csv file.    \n",
    "\n",
    "'''"
   ]
  },
  {
   "cell_type": "code",
   "execution_count": null,
   "metadata": {},
   "outputs": [],
   "source": [
    "import matplotlib.pyplot as plt\n",
    "import pandas as pd\n",
    "import myloggingfile as mlf\n",
    "\n",
    "logger = mlf.logger_init(\"piechartdatafromcsvfile_P3.ipynb\")\n",
    "\n",
    "def main():\n",
    "     \n",
    "    logger.info(\"inside main method\")\n",
    "    df =  pd.read_csv('medal.csv')\n",
    "    logger.debug(f\"reading the data from csc file\\n{df}\")\n",
    "    print(df)\n",
    "\n",
    "    country_data = df[\"country\"]\n",
    "    medal_data = df[\"gold_medal\"]\n",
    "    colors = [\"green\", \"purple\", \"skyblue\", \"red\", \"orange\"]\n",
    "    explode = (0.1, 0, 0, 0, 0)\n",
    "\n",
    "    plt.pie(medal_data, labels=country_data, explode=explode, colors=colors,\n",
    "    autopct='%1.1f%%', shadow=True, startangle=140)\n",
    "    plt.title(\"Gold medal achievements of five most successful\\n\"+\"countries in 2016 Summer Olympics\")\n",
    "    \n",
    "    plt.show()\n",
    "    \n",
    "if __name__=='__main__':\n",
    "    main()"
   ]
  }
 ],
 "metadata": {
  "kernelspec": {
   "display_name": "Python 3",
   "language": "python",
   "name": "python3"
  },
  "language_info": {
   "codemirror_mode": {
    "name": "ipython",
    "version": 3
   },
   "file_extension": ".py",
   "mimetype": "text/x-python",
   "name": "python",
   "nbconvert_exporter": "python",
   "pygments_lexer": "ipython3",
   "version": "3.12.4"
  }
 },
 "nbformat": 4,
 "nbformat_minor": 2
}

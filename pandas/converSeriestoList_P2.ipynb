{
 "cells": [
  {
   "cell_type": "code",
   "execution_count": 7,
   "metadata": {},
   "outputs": [
    {
     "data": {
      "text/plain": [
       "\"\\n\\n@Author: Suresh\\n@Date: 2024-07-29\\n@Last Modified by: Suresh\\n@Last Modified: 2024-07-29\\n@Title : Python program to convert a Panda module Series to Python list and it's type.. \\n\\n\""
      ]
     },
     "execution_count": 7,
     "metadata": {},
     "output_type": "execute_result"
    }
   ],
   "source": [
    "'''\n",
    "\n",
    "@Author: Suresh\n",
    "@Date: 2024-07-29\n",
    "@Last Modified by: Suresh\n",
    "@Last Modified: 2024-07-29\n",
    "@Title : Python program to convert a Pandas module Series to Python list and it's type. \n",
    "\n",
    "'''"
   ]
  },
  {
   "cell_type": "code",
   "execution_count": 1,
   "metadata": {},
   "outputs": [
    {
     "name": "stderr",
     "output_type": "stream",
     "text": [
      "2024-07-31 17:25:03,640:INFO:oneDimensionalArray_P1:Inside main method\n",
      "2024-07-31 17:25:03,640:INFO:oneDimensionalArray_P1:Calling seriesToList method\n",
      "2024-07-31 17:25:03,640:INFO:oneDimensionalArray_P1:Inside create array method\n",
      "2024-07-31 17:25:03,640:DEBUG:oneDimensionalArray_P1: original data 0    10\n",
      "1    20\n",
      "2    30\n",
      "3    40\n",
      "4    50\n",
      "dtype: int64\n",
      "2024-07-31 17:25:03,640:DEBUG:oneDimensionalArray_P1:\n",
      " [10, 20, 30, 40, 50]\n"
     ]
    }
   ],
   "source": [
    "import pandas as pd\n",
    "import myloggingfile\n",
    "\n",
    "logger = myloggingfile.logger_init('oneDimensionalArray_P1')\n",
    "\n",
    "def seriesToList():\n",
    "    \n",
    "    \"\"\"\n",
    "    Description: Function to converting the pandas module series to list.\n",
    "    Parameters:\n",
    "    Returns:\n",
    "        None:\n",
    "    \"\"\"\n",
    "\n",
    "    logger.info(\"Inside create array method\")\n",
    "    data =pd.Series([10,20,30,40,50])\n",
    "    logger.debug(f\" original data {data}\")\n",
    "    sl = data.tolist()\n",
    "    logger.debug(f\"\\n {sl}\")\n",
    "\n",
    "def main():\n",
    "\n",
    "    logger.info(\"Inside main method\")\n",
    "    logger.info(\"Calling seriesToList method\")\n",
    "    seriesToList()  \n",
    "  \n",
    "if __name__=='__main__':\n",
    "    main()"
   ]
  }
 ],
 "metadata": {
  "kernelspec": {
   "display_name": "Python 3",
   "language": "python",
   "name": "python3"
  },
  "language_info": {
   "codemirror_mode": {
    "name": "ipython",
    "version": 3
   },
   "file_extension": ".py",
   "mimetype": "text/x-python",
   "name": "python",
   "nbconvert_exporter": "python",
   "pygments_lexer": "ipython3",
   "version": "3.12.4"
  }
 },
 "nbformat": 4,
 "nbformat_minor": 2
}

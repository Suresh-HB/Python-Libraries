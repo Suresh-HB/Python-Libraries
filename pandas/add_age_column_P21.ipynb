{
 "cells": [
  {
   "cell_type": "markdown",
   "metadata": {},
   "source": [
    "@Author: Suresh\n",
    "@Date: 2024-07-31\n",
    "@Last Modified by: Suresh\n",
    "@Last Modified: 2024-07-31 \n",
    "@Title : Python program to insert a new column in existing DataFrame."
   ]
  },
  {
   "cell_type": "code",
   "execution_count": 1,
   "metadata": {},
   "outputs": [
    {
     "name": "stderr",
     "output_type": "stream",
     "text": [
      "2024-07-31 23:33:02,940:INFO:delete_column_P20.ipynb: inside main method\n",
      "2024-07-31 23:33:02,940:INFO:delete_column_P20.ipynb:calling adding_column method\n",
      "2024-07-31 23:33:02,940:INFO:delete_column_P20.ipynb: inside adding_column method\n",
      "2024-07-31 23:33:02,955:DEBUG:delete_column_P20.ipynb:\n",
      "        name  score  attempts qualify  age\n",
      "a  Anastasia   12.5         1     yes   22\n",
      "b       Dima    9.0         3      no   23\n",
      "c  Katherine   16.5         2     yes   21\n",
      "d      James    NaN         3      no   24\n",
      "e      Emily    9.0         2      no   22\n",
      "f    Michael   20.0         3     yes   23\n",
      "g    Matthew   14.5         1     yes   24\n",
      "h      Laura    NaN         1      no   22\n",
      "i      Kevin    8.0         2      no   21\n",
      "j      Jonas   19.0         1     yes   23\n"
     ]
    }
   ],
   "source": [
    "import pandas as pd\n",
    "import numpy as np\n",
    "import myloggingfile\n",
    "\n",
    "logger = myloggingfile.logger_init(\"add_age_column_P21.ipynb\")\n",
    "\n",
    "def adding_column(exam_data,labels):\n",
    "\n",
    "    \"\"\"\n",
    "    Description: Function to Python program to add new column to the DataFrame.\n",
    "    Parameters: \n",
    "        exam_data,labels : Function taking given data and it's lables to add new column to the data frame\n",
    "    Returns:\n",
    "        None:\n",
    "    \"\"\"\n",
    "\n",
    "    logger.info(\" inside adding_column method\")\n",
    "\n",
    "    df = pd.DataFrame(exam_data,labels) \n",
    "    age_data = [22, 23, 21, 24, 22, 23, 24, 22, 21, 23]\n",
    "    df['age'] = age_data\n",
    "\n",
    "    logger.debug(f\"\\n{df}\")\n",
    "\n",
    "\n",
    "def main():\n",
    "    \n",
    "    logger.info(\" inside main method\")\n",
    "\n",
    "    exam_data = {'name': ['Anastasia', 'Dima', 'Katherine', 'James', 'Emily', 'Michael', 'Matthew',\n",
    "    'Laura', 'Kevin', 'Jonas'],\n",
    "    'score': [12.5, 9, 16.5, np.nan, 9, 20, 14.5, np.nan, 8, 19],\n",
    "    'attempts': [1, 3, 2, 3, 2, 3, 1, 1, 2, 1],\n",
    "    'qualify': ['yes', 'no', 'yes', 'no', 'no', 'yes', 'yes', 'no', 'no', 'yes']\n",
    "    }\n",
    "    \n",
    "    labels = ['a', 'b', 'c', 'd', 'e', 'f', 'g', 'h', 'i', 'j']\n",
    "    logger.info(\"calling adding_column method\")\n",
    "    adding_column(exam_data,labels)\n",
    "\n",
    "\n",
    "if __name__==\"__main__\":\n",
    "    main()\n"
   ]
  }
 ],
 "metadata": {
  "kernelspec": {
   "display_name": "Python 3",
   "language": "python",
   "name": "python3"
  },
  "language_info": {
   "codemirror_mode": {
    "name": "ipython",
    "version": 3
   },
   "file_extension": ".py",
   "mimetype": "text/x-python",
   "name": "python",
   "nbconvert_exporter": "python",
   "pygments_lexer": "ipython3",
   "version": "3.12.4"
  }
 },
 "nbformat": 4,
 "nbformat_minor": 2
}

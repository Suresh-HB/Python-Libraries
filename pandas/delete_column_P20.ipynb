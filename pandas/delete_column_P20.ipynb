{
 "cells": [
  {
   "cell_type": "markdown",
   "metadata": {},
   "source": [
    "@Author: Suresh\n",
    "@Date: 2024-07-31\n",
    "@Last Modified by: Suresh\n",
    "@Last Modified: 2024-07-31 \n",
    "@Title : Python program to delete the 'attempts' column from the DataFrame."
   ]
  },
  {
   "cell_type": "code",
   "execution_count": 3,
   "metadata": {},
   "outputs": [
    {
     "name": "stderr",
     "output_type": "stream",
     "text": [
      "2024-07-31 23:28:04,011:INFO:delete_column_P20.ipynb: inside main method\n",
      "2024-07-31 23:28:04,011:INFO:delete_column_P20.ipynb: inside main method\n",
      "2024-07-31 23:28:04,011:INFO:delete_column_P20.ipynb: inside main method\n",
      "2024-07-31 23:28:04,012:INFO:delete_column_P20.ipynb:calling delete_attempts method\n",
      "2024-07-31 23:28:04,012:INFO:delete_column_P20.ipynb:calling delete_attempts method\n",
      "2024-07-31 23:28:04,012:INFO:delete_column_P20.ipynb:calling delete_attempts method\n",
      "2024-07-31 23:28:04,015:INFO:delete_column_P20.ipynb: inside delete_attempts method\n",
      "2024-07-31 23:28:04,015:INFO:delete_column_P20.ipynb: inside delete_attempts method\n",
      "2024-07-31 23:28:04,015:INFO:delete_column_P20.ipynb: inside delete_attempts method\n",
      "2024-07-31 23:28:04,021:DEBUG:delete_column_P20.ipynb:\n",
      "        name  score qualify\n",
      "a  Anastasia   12.5     yes\n",
      "b       Dima    9.0      no\n",
      "c  Katherine   16.5     yes\n",
      "d      James    NaN      no\n",
      "e      Emily    9.0      no\n",
      "f    Michael   20.0     yes\n",
      "g    Matthew   14.5     yes\n",
      "h      Laura    NaN      no\n",
      "i      Kevin    8.0      no\n",
      "j      Jonas   19.0     yes\n",
      "2024-07-31 23:28:04,021:DEBUG:delete_column_P20.ipynb:\n",
      "        name  score qualify\n",
      "a  Anastasia   12.5     yes\n",
      "b       Dima    9.0      no\n",
      "c  Katherine   16.5     yes\n",
      "d      James    NaN      no\n",
      "e      Emily    9.0      no\n",
      "f    Michael   20.0     yes\n",
      "g    Matthew   14.5     yes\n",
      "h      Laura    NaN      no\n",
      "i      Kevin    8.0      no\n",
      "j      Jonas   19.0     yes\n",
      "2024-07-31 23:28:04,021:DEBUG:delete_column_P20.ipynb:\n",
      "        name  score qualify\n",
      "a  Anastasia   12.5     yes\n",
      "b       Dima    9.0      no\n",
      "c  Katherine   16.5     yes\n",
      "d      James    NaN      no\n",
      "e      Emily    9.0      no\n",
      "f    Michael   20.0     yes\n",
      "g    Matthew   14.5     yes\n",
      "h      Laura    NaN      no\n",
      "i      Kevin    8.0      no\n",
      "j      Jonas   19.0     yes\n"
     ]
    }
   ],
   "source": [
    "import pandas as pd\n",
    "import numpy as np\n",
    "import myloggingfile\n",
    "\n",
    "logger = myloggingfile.logger_init(\"delete_column_P20.ipynb\")\n",
    "\n",
    "def delete_attempts(exam_data,labels):\n",
    "\n",
    "    \"\"\"\n",
    "    Description: Function to Python program to delete the 'attempts' column from the DataFrame.\n",
    "    Parameters: \n",
    "        exam_data,labels : Function taking given data and it's lables to delete attempts column \n",
    "    Returns:\n",
    "        None:\n",
    "    \"\"\"\n",
    "\n",
    "    logger.info(\" inside delete_attempts method\")\n",
    "\n",
    "    df = pd.DataFrame(exam_data,labels)\n",
    "    df = df.drop(columns=['attempts'])\n",
    "   \n",
    "    df.index = labels\n",
    "    logger.debug(f\"\\n{df}\")\n",
    "\n",
    "\n",
    "def main():\n",
    "    \n",
    "    logger.info(\" inside main method\")\n",
    "\n",
    "    exam_data = {'name': ['Anastasia', 'Dima', 'Katherine', 'James', 'Emily', 'Michael', 'Matthew',\n",
    "    'Laura', 'Kevin', 'Jonas'],\n",
    "    'score': [12.5, 9, 16.5, np.nan, 9, 20, 14.5, np.nan, 8, 19],\n",
    "    'attempts': [1, 3, 2, 3, 2, 3, 1, 1, 2, 1],\n",
    "    'qualify': ['yes', 'no', 'yes', 'no', 'no', 'yes', 'yes', 'no', 'no', 'yes']\n",
    "    }\n",
    "    \n",
    "    labels = ['a', 'b', 'c', 'd', 'e', 'f', 'g', 'h', 'i', 'j']\n",
    "    logger.info(\"calling delete_attempts method\")\n",
    "    delete_attempts(exam_data,labels)\n",
    "\n",
    "\n",
    "if __name__==\"__main__\":\n",
    "    main()\n"
   ]
  }
 ],
 "metadata": {
  "kernelspec": {
   "display_name": "Python 3",
   "language": "python",
   "name": "python3"
  },
  "language_info": {
   "codemirror_mode": {
    "name": "ipython",
    "version": 3
   },
   "file_extension": ".py",
   "mimetype": "text/x-python",
   "name": "python",
   "nbconvert_exporter": "python",
   "pygments_lexer": "ipython3",
   "version": "3.12.4"
  }
 },
 "nbformat": 4,
 "nbformat_minor": 2
}

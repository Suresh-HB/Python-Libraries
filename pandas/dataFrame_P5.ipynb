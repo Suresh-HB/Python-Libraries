{
 "cells": [
  {
   "cell_type": "markdown",
   "metadata": {},
   "source": [
    "'''\n",
    "\n",
    "@Author: Suresh\n",
    "@Date: 2024-07-30\n",
    "@Last Modified by: Suresh\n",
    "@Last Modified: 2024-07-30 \n",
    "@Title : Python program to create and display a DataFrame from a specified dictionary\n",
    "data which has the index labels.\n",
    "\n",
    "'''"
   ]
  },
  {
   "cell_type": "code",
   "execution_count": 10,
   "metadata": {},
   "outputs": [
    {
     "name": "stderr",
     "output_type": "stream",
     "text": [
      "2024-07-30 10:24:06,601:INFO:dataFrame_P5:Inside main method\n",
      "2024-07-30 10:24:06,601:INFO:dataFrame_P5:Inside main method\n",
      "2024-07-30 10:24:06,601:INFO:dataFrame_P5:Calling dataFrame method \n",
      "2024-07-30 10:24:06,601:INFO:dataFrame_P5:Calling dataFrame method \n",
      "2024-07-30 10:24:06,603:DEBUG:dataFrame_P5:\n",
      "         name   score  attempts qualify\n",
      "a  Anastasia    12.5         1     yes\n",
      "b       Dima       9         3      no\n",
      "c  Katherine    16.5         2     yes\n",
      "d      James  np.nan         3      no\n",
      "e      Emily       9         2      no\n",
      "f    Michael      20         3     yes\n",
      "g    Matthew    14.5         1     yes\n",
      "h      Laura  np.nan         1      no\n",
      "i      Kevin       8         2      no\n",
      "j      Jonas      19         1     yes\n",
      "2024-07-30 10:24:06,603:DEBUG:dataFrame_P5:\n",
      "         name   score  attempts qualify\n",
      "a  Anastasia    12.5         1     yes\n",
      "b       Dima       9         3      no\n",
      "c  Katherine    16.5         2     yes\n",
      "d      James  np.nan         3      no\n",
      "e      Emily       9         2      no\n",
      "f    Michael      20         3     yes\n",
      "g    Matthew    14.5         1     yes\n",
      "h      Laura  np.nan         1      no\n",
      "i      Kevin       8         2      no\n",
      "j      Jonas      19         1     yes\n"
     ]
    }
   ],
   "source": [
    "\n",
    "import pandas as pd\n",
    "import numpy as np\n",
    "import myloggingfile\n",
    "\n",
    "logger = myloggingfile.logger_init(\"dataFrame_P5\")\n",
    "\n",
    "\n",
    "def  dataFrame(exam_data,labels):\n",
    "\n",
    "    \"\"\"\n",
    "    Description: Function to create and display a DataFrame from a specified dictionary\n",
    "    data which has the index labels.\n",
    "    Parameters:\n",
    "    exam_data,labels: Function taking data and lables as a parameters\n",
    "    Returns:\n",
    "        None:\n",
    "    \"\"\"\n",
    "\n",
    "    data_frame = pd.DataFrame(exam_data,labels)\n",
    "    logger.debug(f\"\\n {data_frame}\")\n",
    "\n",
    "\n",
    "def main():\n",
    "\n",
    "    logger.info(\"Inside main method\")\n",
    "    \n",
    "    exam_data = {'name': ['Anastasia', 'Dima', 'Katherine', 'James', 'Emily', 'Michael',\n",
    "    'Matthew', 'Laura', 'Kevin', 'Jonas'],\n",
    "    'score': [12.5, 9, 16.5, 'np.nan', 9, 20, 14.5, 'np.nan', 8, 19],\n",
    "    'attempts': [1, 3, 2, 3, 2, 3, 1, 1, 2, 1],\n",
    "    'qualify': ['yes', 'no', 'yes', 'no', 'no', 'yes', 'yes', 'no', 'no', 'yes']}\n",
    "    \n",
    "    labels = ['a', 'b', 'c', 'd', 'e', 'f', 'g', 'h', 'i', 'j']\n",
    "\n",
    "    logger.info(\"Calling dataFrame method \")\n",
    "    dataFrame(exam_data,labels)\n",
    "\n",
    "if __name__ == '__main__':\n",
    "    main()"
   ]
  }
 ],
 "metadata": {
  "kernelspec": {
   "display_name": "Python 3",
   "language": "python",
   "name": "python3"
  },
  "language_info": {
   "codemirror_mode": {
    "name": "ipython",
    "version": 3
   },
   "file_extension": ".py",
   "mimetype": "text/x-python",
   "name": "python",
   "nbconvert_exporter": "python",
   "pygments_lexer": "ipython3",
   "version": "3.12.4"
  }
 },
 "nbformat": 4,
 "nbformat_minor": 2
}

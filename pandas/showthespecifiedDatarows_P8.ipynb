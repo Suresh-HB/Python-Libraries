{
 "cells": [
  {
   "cell_type": "markdown",
   "metadata": {},
   "source": [
    "'''\n",
    "\n",
    "@Author: Suresh\n",
    "@Date: 2024-07-31\n",
    "@Last Modified by: Suresh\n",
    "@Last Modified: 2024-07-31 \n",
    "@Title : Python program to select the 'name' and 'score' columns from the following\n",
    "DataFrame.\n",
    "\n",
    "''"
   ]
  },
  {
   "cell_type": "code",
   "execution_count": 2,
   "metadata": {},
   "outputs": [
    {
     "name": "stderr",
     "output_type": "stream",
     "text": [
      "2024-07-31 10:03:55,944:INFO:showthespecifiedDatarows_P8.ipynb:Inside main method\n",
      "2024-07-31 10:03:55,944:INFO:showthespecifiedDatarows_P8.ipynb:Inside main method\n",
      "2024-07-31 10:03:55,960:DEBUG:showthespecifiedDatarows_P8.ipynb: given data \n",
      "{'name': ['Anastasia', 'Dima', 'Katherine', 'James', 'Emily', 'Michael', 'Matthew', 'Laura', 'Kevin', 'Jonas'], 'score': [12.5, 9, 16.5, nan, 9, 20, 14.5, nan, 8, 19], 'attempts': [1, 3, 2, 3, 2, 3, 1, 1, 2, 1], 'qualify': ['yes', 'no', 'yes', 'no', 'no', 'yes', 'yes', 'no', 'no', 'yes']}\n",
      "2024-07-31 10:03:55,960:DEBUG:showthespecifiedDatarows_P8.ipynb: given data \n",
      "{'name': ['Anastasia', 'Dima', 'Katherine', 'James', 'Emily', 'Michael', 'Matthew', 'Laura', 'Kevin', 'Jonas'], 'score': [12.5, 9, 16.5, nan, 9, 20, 14.5, nan, 8, 19], 'attempts': [1, 3, 2, 3, 2, 3, 1, 1, 2, 1], 'qualify': ['yes', 'no', 'yes', 'no', 'no', 'yes', 'yes', 'no', 'no', 'yes']}\n",
      "2024-07-31 10:03:55,960:DEBUG:showthespecifiedDatarows_P8.ipynb: given labels \n",
      "['a', 'b', 'c', 'd', 'e', 'f', 'g', 'h', 'i', 'j']\n",
      "2024-07-31 10:03:55,960:DEBUG:showthespecifiedDatarows_P8.ipynb: given labels \n",
      "['a', 'b', 'c', 'd', 'e', 'f', 'g', 'h', 'i', 'j']\n",
      "2024-07-31 10:03:55,960:INFO:showthespecifiedDatarows_P8.ipynb: calling select_name_and_score_columns method\n",
      "2024-07-31 10:03:55,960:INFO:showthespecifiedDatarows_P8.ipynb: calling select_name_and_score_columns method\n",
      "2024-07-31 10:03:55,975:INFO:showthespecifiedDatarows_P8.ipynb:Inside select_name_and_score_columns method\n",
      "2024-07-31 10:03:55,975:INFO:showthespecifiedDatarows_P8.ipynb:Inside select_name_and_score_columns method\n"
     ]
    },
    {
     "name": "stdout",
     "output_type": "stream",
     "text": [
      "        name  score\n",
      "a  Anastasia   12.5\n",
      "b       Dima    9.0\n",
      "c  Katherine   16.5\n",
      "d      James    NaN\n",
      "e      Emily    9.0\n",
      "f    Michael   20.0\n",
      "g    Matthew   14.5\n",
      "h      Laura    NaN\n",
      "i      Kevin    8.0\n",
      "j      Jonas   19.0\n"
     ]
    }
   ],
   "source": [
    "import pandas as pd\n",
    "import numpy as np\n",
    "import myloggingfile\n",
    "\n",
    "logger = myloggingfile.logger_init(\"showthespecifiedDatarows_P8.ipynb\")\n",
    "\n",
    "def select_name_and_score_columns(exam_data,labels):\n",
    "    \n",
    "    \"\"\"\n",
    "    Description: Function to select and display only particular columns.\n",
    "    Parameters: \n",
    "    exam_data,labels : Function taking given data and it's lables for get the required columns  \n",
    "    Returns:\n",
    "        None:\n",
    "    \"\"\"\n",
    "\n",
    "    logger.info(\"Inside select_name_and_score_columns method\") \n",
    "\n",
    "    df = pd.DataFrame(exam_data)\n",
    "    df.index=labels\n",
    "    cd = df.get(['name','score'])\n",
    "    print(cd)\n",
    "\n",
    "\n",
    "\n",
    "def main():\n",
    "\n",
    "    logger.info(\"Inside main method\")\n",
    "\n",
    "    exam_data = {'name': ['Anastasia', 'Dima', 'Katherine', 'James', 'Emily', 'Michael', 'Matthew',\n",
    "    'Laura', 'Kevin', 'Jonas'],\n",
    "    'score': [12.5, 9, 16.5, np.nan, 9, 20, 14.5, np.nan, 8, 19],\n",
    "    'attempts': [1, 3, 2, 3, 2, 3, 1, 1, 2, 1],\n",
    "    'qualify': ['yes', 'no', 'yes', 'no', 'no', 'yes', 'yes', 'no', 'no', 'yes']}\n",
    "    \n",
    "    labels = ['a', 'b', 'c', 'd', 'e', 'f', 'g', 'h', 'i', 'j']\n",
    "    logger.debug(f\" given data \\n{exam_data}\")\n",
    "    logger.debug(f\" given labels \\n{labels}\")\n",
    "\n",
    "    logger.info(\" calling select_name_and_score_columns method\")\n",
    "    select_name_and_score_columns(exam_data,labels)\n",
    "\n",
    "\n",
    "if __name__ == '__main__':\n",
    "    main()\n",
    "\n",
    "\n"
   ]
  }
 ],
 "metadata": {
  "kernelspec": {
   "display_name": "Python 3",
   "language": "python",
   "name": "python3"
  },
  "language_info": {
   "codemirror_mode": {
    "name": "ipython",
    "version": 3
   },
   "file_extension": ".py",
   "mimetype": "text/x-python",
   "name": "python",
   "nbconvert_exporter": "python",
   "pygments_lexer": "ipython3",
   "version": "3.12.4"
  }
 },
 "nbformat": 4,
 "nbformat_minor": 2
}

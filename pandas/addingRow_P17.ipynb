{
 "cells": [
  {
   "cell_type": "markdown",
   "metadata": {},
   "source": [
    "@Author: Suresh\n",
    "@Date: 2024-07-31\n",
    "@Last Modified by: Suresh\n",
    "@Last Modified: 2024-07-31 \n",
    "@Title : Python program to append a new row 'k' to data frame with given values for\n",
    "each column. Now delete the new row and return the original DataFrame."
   ]
  },
  {
   "cell_type": "code",
   "execution_count": null,
   "metadata": {},
   "outputs": [],
   "source": [
    "import pandas as pd\n",
    "import numpy as np\n",
    "import myloggingfile\n",
    "\n",
    "logger = myloggingfile.logger_init(\"addingRows_17.ipynb\")\n",
    "\n",
    "\n",
    "def add_row(exam_data,labels):\n",
    "\n",
    "    \"\"\"\n",
    "    Description: Function to add an extra column to the given data frame and then remove that added row\n",
    "    Parameters: \n",
    "        exam_data,labels : Function taking given data and it's lables to add extra row and remove that one\n",
    "    Returns:\n",
    "        None:\n",
    "    \"\"\"\n",
    "\n",
    "    logger.info(\" Inside add_row method\")\n",
    "\n",
    "    df = pd.DataFrame(exam_data,labels)\n",
    "    # df.loc[len(df.index)]=['Suresh',15.5,1,'yes']\n",
    "    new_row = pd.DataFrame([['Suresh', 15.5, 1, 'yes']], columns=df.columns, index=['k'])\n",
    "    df = pd.concat([df, new_row])\n",
    "    df=df.drop('k')\n",
    "    logger.debug(df)\n",
    "    \n",
    "\n",
    "def main():\n",
    "\n",
    "    logger.info(\" Indise main method\")\n",
    "    exam_data = {'name': ['Anastasia', 'Dima', 'Katherine', 'James', 'Emily', 'Michael', 'Matthew',\n",
    "    'Laura', 'Kevin', 'Jonas'],\n",
    "    'score': [12.5, 9, 16.5, np.nan, 9, 20, 14.5, np.nan, 8, 19],\n",
    "    'attempts': [1, 3, 2, 3, 2, 3, 1, 1, 2, 1],\n",
    "    'qualify': ['yes', 'no', 'yes', 'no', 'no', 'yes', 'yes', 'no', 'no', 'yes']}\n",
    "    labels = ['a', 'b', 'c', 'd', 'e', 'f', 'g', 'h', 'i', 'j']\n",
    "\n",
    "    logger.debug(exam_data)\n",
    "    logger.debug(labels)\n",
    "\n",
    "    logger.info(\" calling add_row method\")\n",
    "    add_row(exam_data,labels)\n",
    "\n",
    "\n",
    "if __name__ =='__main__':\n",
    "    main()"
   ]
  }
 ],
 "metadata": {
  "kernelspec": {
   "display_name": "Python 3",
   "language": "python",
   "name": "python3"
  },
  "language_info": {
   "codemirror_mode": {
    "name": "ipython",
    "version": 3
   },
   "file_extension": ".py",
   "mimetype": "text/x-python",
   "name": "python",
   "nbconvert_exporter": "python",
   "pygments_lexer": "ipython3",
   "version": "3.12.4"
  }
 },
 "nbformat": 4,
 "nbformat_minor": 2
}

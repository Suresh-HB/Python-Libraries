{
 "cells": [
  {
   "cell_type": "markdown",
   "metadata": {},
   "source": [
    "'''\n",
    "\n",
    "@Author: Suresh\n",
    "@Date: 2024-07-29\n",
    "@Last Modified by: Suresh\n",
    "@Last Modified: 2024-07-29\n",
    "@Title : Python program to create pandas one dimensional array. \n",
    "\n",
    "'''"
   ]
  },
  {
   "cell_type": "code",
   "execution_count": null,
   "metadata": {},
   "outputs": [],
   "source": [
    "import pandas as pd\n",
    "import myloggingfile\n",
    "\n",
    "logger = myloggingfile.logger_init('oneDimensionalArray_P1')\n",
    "\n",
    "def createArray():\n",
    "    \n",
    "    \"\"\"\n",
    "    Description: Function to create pandas one dimensional array\n",
    "    Parameters:\n",
    "    Returns:\n",
    "        None:\n",
    "    \"\"\"\n",
    "\n",
    "    logger.info(\"Inside create array method\")\n",
    "    data = [10,20,30,40,50]\n",
    "    logger.debug(f\" original data {data}\")\n",
    "    ar = pd.Series(data)\n",
    "    logger.debug(f\"\\n {ar}\")\n",
    "\n",
    "def main():\n",
    "\n",
    "    logger.info(\"Inside main method\")\n",
    "    logger.info(\"Calling createArray method\")\n",
    "    createArray()  \n",
    "  \n",
    "if __name__=='__main__':\n",
    "    main()"
   ]
  }
 ],
 "metadata": {
  "kernelspec": {
   "display_name": "Python 3",
   "language": "python",
   "name": "python3"
  },
  "language_info": {
   "codemirror_mode": {
    "name": "ipython",
    "version": 3
   },
   "file_extension": ".py",
   "mimetype": "text/x-python",
   "name": "python",
   "nbconvert_exporter": "python",
   "pygments_lexer": "ipython3",
   "version": "3.12.4"
  }
 },
 "nbformat": 4,
 "nbformat_minor": 2
}

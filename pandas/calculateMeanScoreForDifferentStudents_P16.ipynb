{
 "cells": [
  {
   "cell_type": "markdown",
   "metadata": {},
   "source": [
    "@Author: Suresh\n",
    "@Date: 2024-07-31\n",
    "@Last Modified by: Suresh\n",
    "@Last Modified: 2024-07-31 \n",
    "@Title : Python program to calculate the mean score for each different student in DataFrame."
   ]
  },
  {
   "cell_type": "code",
   "execution_count": 1,
   "metadata": {},
   "outputs": [
    {
     "name": "stderr",
     "output_type": "stream",
     "text": [
      "2024-07-31 18:15:03,296:INFO:calculateMeanScoreForDifferentStudents_P16.ipynb: inside main method \n",
      "2024-07-31 18:15:03,296:INFO:calculateMeanScoreForDifferentStudents_P16.ipynb:calling mean_score method\n",
      "2024-07-31 18:15:03,296:INFO:calculateMeanScoreForDifferentStudents_P16.ipynb: inside mean_score method\n",
      "2024-07-31 18:15:03,296:DEBUG:calculateMeanScoreForDifferentStudents_P16.ipynb:        name  score  attempts qualify\n",
      "0  Anastasia   12.5         1     yes\n",
      "1       Dima    9.0         3      no\n",
      "2  Katherine   16.5         2     yes\n",
      "3      James    NaN         3      no\n",
      "4      Emily    9.0         2      no\n",
      "5    Michael   20.0         3     yes\n",
      "6    Matthew   14.5         1     yes\n",
      "7      Laura    NaN         1      no\n",
      "8      Kevin    8.0         2      no\n",
      "9      Jonas   19.0         1     yes\n",
      "2024-07-31 18:15:03,296:DEBUG:calculateMeanScoreForDifferentStudents_P16.ipynb: mean score for all students = 13.5625\n"
     ]
    }
   ],
   "source": [
    "import pandas as pd\n",
    "import numpy as np\n",
    "import myloggingfile\n",
    "\n",
    "logger = myloggingfile.logger_init(\"calculateMeanScoreForDifferentStudents_P16.ipynb\")\n",
    "\n",
    "def mean_score(exam_data,labels):\n",
    "   \n",
    "    \"\"\"\n",
    "    Description: Function to calculate the mean score for each different student in DataFrame.\n",
    "    Parameters: \n",
    "        exam_data,labels : Function taking given data and it's lables to calculates mean score for all students\n",
    "    Returns:\n",
    "        None:\n",
    "    \"\"\"\n",
    "\n",
    "    logger.info(\" inside mean_score method\")\n",
    "    df = pd.DataFrame(exam_data)\n",
    "    logger.debug(df)\n",
    "\n",
    "    df.index=labels\n",
    "    mean = df['score'].mean()\n",
    "    logger.debug(f\" mean score for all students = {mean}\")\n",
    "\n",
    "\n",
    "def main():\n",
    "    \n",
    "    logger.info(\" inside main method \")\n",
    "    \n",
    "    exam_data = {'name': ['Anastasia', 'Dima', 'Katherine', 'James', 'Emily', 'Michael', 'Matthew',\n",
    "    'Laura', 'Kevin', 'Jonas'],\n",
    "    'score': [12.5, 9, 16.5, np.nan, 9, 20, 14.5, np.nan, 8, 19],\n",
    "    'attempts': [1, 3, 2, 3, 2, 3, 1, 1, 2, 1],\n",
    "    'qualify': ['yes', 'no', 'yes', 'no', 'no', 'yes', 'yes', 'no', 'no', 'yes']}\n",
    "    labels = ['a', 'b', 'c', 'd', 'e', 'f', 'g', 'h', 'i', 'j']\n",
    "\n",
    "    logger.info(\"calling mean_score method\")\n",
    "    mean_score(exam_data,labels)\n",
    "\n",
    "if __name__ == '__main__':\n",
    "    main()"
   ]
  }
 ],
 "metadata": {
  "kernelspec": {
   "display_name": "Python 3",
   "language": "python",
   "name": "python3"
  },
  "language_info": {
   "codemirror_mode": {
    "name": "ipython",
    "version": 3
   },
   "file_extension": ".py",
   "mimetype": "text/x-python",
   "name": "python",
   "nbconvert_exporter": "python",
   "pygments_lexer": "ipython3",
   "version": "3.12.4"
  }
 },
 "nbformat": 4,
 "nbformat_minor": 2
}

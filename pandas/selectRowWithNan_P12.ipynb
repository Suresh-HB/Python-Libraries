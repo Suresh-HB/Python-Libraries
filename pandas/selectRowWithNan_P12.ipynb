{
 "cells": [
  {
   "cell_type": "markdown",
   "metadata": {},
   "source": [
    "'''\n",
    "\n",
    "@Author: Suresh\n",
    "@Date: 2024-07-31\n",
    "@Last Modified by: Suresh\n",
    "@Last Modified: 2024-07-31 \n",
    "@Title : Python program to select the rows where the score is missing, i.e. is NaN.\n",
    "\n",
    "''"
   ]
  },
  {
   "cell_type": "code",
   "execution_count": null,
   "metadata": {},
   "outputs": [],
   "source": [
    "import pandas as pd\n",
    "import numpy as np\n",
    "import myloggingfile\n",
    "\n",
    "logger = myloggingfile.logger_init(\"selectRowsWithNan_P12.ipynb\")\n",
    "\n",
    "def row_with_nan_method(exam_data,labels):\n",
    "\n",
    "    \"\"\"\n",
    "    Description: Function to selects the rows which are containing with nan value.\n",
    "    Parameters: \n",
    "    exam_data,labels : Function taking given data and it's lables to selects the rows which are containing nan values. \n",
    "    Returns:\n",
    "        None:\n",
    "    \"\"\"\n",
    "\n",
    "    logger.info(\" Inside row_with_nan_method method\")\n",
    "\n",
    "    df = pd.DataFrame(exam_data,labels)\n",
    "    logger.info(f\" data frame \\n {df}\")\n",
    "    sn = df[df['score'].isnull()]\n",
    "    logger.debug(sn)\n",
    "\n",
    "\n",
    "\n",
    "def main():\n",
    "    \n",
    "    logger.info(\" Inside the main method\")\n",
    "    \n",
    "    exam_data = {'name': ['Anastasia', 'Dima', 'Katherine', 'James', 'Emily', 'Michael', 'Matthew','Laura', 'Kevin', 'Jonas'],\n",
    "    'score': [12.5, 9, 16.5, np.nan, 9, 20, 14.5, np.nan, 8, 19],\n",
    "    'attempts': [1, 3, 2, 3, 2, 3, 1, 1, 2, 1],\n",
    "    'qualify': ['yes', 'no', 'yes', 'no', 'no', 'yes', 'yes', 'no', 'no', 'yes']}\n",
    "\n",
    "    labels = ['a', 'b', 'c', 'd', 'e', 'f', 'g', 'h', 'i', 'j']\n",
    "      \n",
    "    logger.info(f\" given data \\n {exam_data}\")\n",
    "    logger.info(f\" given labels \\n {labels}\")\n",
    "\n",
    "    logger.info(\" calling row_with_nan method\")\n",
    "    row_with_nan_method(exam_data,labels)\n",
    "\n",
    "\n",
    "if __name__ =='__main__':\n",
    "    main()"
   ]
  }
 ],
 "metadata": {
  "kernelspec": {
   "display_name": "Python 3",
   "language": "python",
   "name": "python3"
  },
  "language_info": {
   "codemirror_mode": {
    "name": "ipython",
    "version": 3
   },
   "file_extension": ".py",
   "mimetype": "text/x-python",
   "name": "python",
   "nbconvert_exporter": "python",
   "pygments_lexer": "ipython3",
   "version": "3.12.4"
  }
 },
 "nbformat": 4,
 "nbformat_minor": 2
}

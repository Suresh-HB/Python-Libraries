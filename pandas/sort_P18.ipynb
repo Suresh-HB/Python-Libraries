{
 "cells": [
  {
   "cell_type": "markdown",
   "metadata": {},
   "source": [
    "@Author: Suresh\n",
    "@Date: 2024-07-31\n",
    "@Last Modified by: Suresh\n",
    "@Last Modified: 2024-07-31 \n",
    "@Title : Python program to sort the DataFrame first by 'name' in descending order,\n",
    "then by 'score' in ascending order."
   ]
  },
  {
   "cell_type": "code",
   "execution_count": null,
   "metadata": {},
   "outputs": [],
   "source": [
    "import pandas as pd\n",
    "import numpy as np\n",
    "import myloggingfile\n",
    "\n",
    "logger = myloggingfile.logger_init(\"sort_P18.ipynb\")\n",
    "\n",
    "\n",
    "def do_sort(exam_data,labels):\n",
    "\n",
    "    \"\"\"\n",
    "    Description: Function to sort the DataFrame first by 'name' in descending order,then by 'score' in ascending order.\n",
    "    Parameters: \n",
    "        exam_data,labels : Function taking given data and it's lables to sor the given columns \n",
    "    Returns:\n",
    "        None:\n",
    "    \"\"\"\n",
    "\n",
    "    logger.info(\" Inside do_sort method\")\n",
    "\n",
    "    df = pd.DataFrame(exam_data,labels)\n",
    "    logger.debug(df)\n",
    "    sorted_df = df.sort_values(by=['name', 'score'], ascending=[False, True])\n",
    "    logger.debug(sorted_df)\n",
    "\n",
    "\n",
    "def main():\n",
    "    \n",
    "    logger.info(\" Inside main method \")\n",
    "    exam_data = {\n",
    "    'name': ['Anastasia', 'Dima', 'Katherine', 'James', 'Emily', 'Michael', 'Matthew',\n",
    "             'Laura', 'Kevin', 'Jonas'],\n",
    "    'score': [12.5, 9, 16.5, np.nan, 9, 20, 14.5, np.nan, 8, 19],\n",
    "    'attempts': [1, 3, 2, 3, 2, 3, 1, 1, 2, 1],\n",
    "    'qualify': ['yes', 'no', 'yes', 'no', 'no', 'yes', 'yes', 'no', 'no', 'yes']\n",
    "    }\n",
    "    labels = ['a', 'b', 'c', 'd', 'e', 'f', 'g', 'h', 'i', 'j']\n",
    "\n",
    "    logger.info(\" calling do_sort method\")\n",
    "    do_sort(exam_data,labels)\n",
    "\n",
    "if __name__ == '__main__':\n",
    "    main()"
   ]
  }
 ],
 "metadata": {
  "kernelspec": {
   "display_name": "Python 3",
   "language": "python",
   "name": "python3"
  },
  "language_info": {
   "codemirror_mode": {
    "name": "ipython",
    "version": 3
   },
   "file_extension": ".py",
   "mimetype": "text/x-python",
   "name": "python",
   "nbconvert_exporter": "python",
   "pygments_lexer": "ipython3",
   "version": "3.12.4"
  }
 },
 "nbformat": 4,
 "nbformat_minor": 2
}

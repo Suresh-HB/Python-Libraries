{
 "cells": [
  {
   "cell_type": "markdown",
   "metadata": {},
   "source": [
    "'''\n",
    "@Author: Suresh\n",
    "@Date: 2024-07-30\n",
    "@Last Modified by: Suresh\n",
    "@Last Modified: 2024-07-30\n",
    "@Title : Python program to get the powers of an array values element-wise.\n",
    "\n",
    "'''"
   ]
  },
  {
   "cell_type": "code",
   "execution_count": 5,
   "metadata": {},
   "outputs": [
    {
     "name": "stderr",
     "output_type": "stream",
     "text": [
      "2024-07-30 10:03:15,886:INFO:powerOfValuesByEle_P4:Inside main method\n",
      "2024-07-30 10:03:15,886:INFO:powerOfValuesByEle_P4:Inside main method\n",
      "2024-07-30 10:03:15,886:INFO:powerOfValuesByEle_P4:Inside main method\n",
      "2024-07-30 10:03:15,886:INFO:powerOfValuesByEle_P4:Inside main method\n",
      "2024-07-30 10:03:15,886:INFO:powerOfValuesByEle_P4:Inside main method\n",
      "2024-07-30 10:03:15,888:INFO:powerOfValuesByEle_P4:Calling method\n",
      "2024-07-30 10:03:15,888:INFO:powerOfValuesByEle_P4:Calling method\n",
      "2024-07-30 10:03:15,888:INFO:powerOfValuesByEle_P4:Calling method\n",
      "2024-07-30 10:03:15,888:INFO:powerOfValuesByEle_P4:Calling method\n",
      "2024-07-30 10:03:15,888:INFO:powerOfValuesByEle_P4:Calling method\n",
      "2024-07-30 10:03:15,891:INFO:powerOfValuesByEle_P4:Inside powerOfArrayElementMethod\n",
      "2024-07-30 10:03:15,891:INFO:powerOfValuesByEle_P4:Inside powerOfArrayElementMethod\n",
      "2024-07-30 10:03:15,891:INFO:powerOfValuesByEle_P4:Inside powerOfArrayElementMethod\n",
      "2024-07-30 10:03:15,891:INFO:powerOfValuesByEle_P4:Inside powerOfArrayElementMethod\n",
      "2024-07-30 10:03:15,891:INFO:powerOfValuesByEle_P4:Inside powerOfArrayElementMethod\n",
      "2024-07-30 10:03:15,897:DEBUG:powerOfValuesByEle_P4:result \n",
      "[  0   1   8  27  64 125 216]\n",
      "2024-07-30 10:03:15,897:DEBUG:powerOfValuesByEle_P4:result \n",
      "[  0   1   8  27  64 125 216]\n",
      "2024-07-30 10:03:15,897:DEBUG:powerOfValuesByEle_P4:result \n",
      "[  0   1   8  27  64 125 216]\n",
      "2024-07-30 10:03:15,897:DEBUG:powerOfValuesByEle_P4:result \n",
      "[  0   1   8  27  64 125 216]\n",
      "2024-07-30 10:03:15,897:DEBUG:powerOfValuesByEle_P4:result \n",
      "[  0   1   8  27  64 125 216]\n"
     ]
    }
   ],
   "source": [
    "import numpy as np\n",
    "import pandas as pd\n",
    "import myloggingfile \n",
    "\n",
    "logger = myloggingfile.logger_init(\"powerOfValuesByEle_P4\")\n",
    "\n",
    "\n",
    "def powerOfArrayEle(arr,powers):\n",
    "    \n",
    "    \"\"\"\n",
    "    Description: Function to  get the powers of an array values element-wise. .\n",
    "    Parameters:\n",
    "    arr,powers : Function taking the array and powers as a parameter \n",
    "    Returns:\n",
    "        None:\n",
    "    \"\"\"\n",
    "\n",
    "    logger.info(\"Inside powerOfArrayElementMethod\")\n",
    "\n",
    "    result = np.power(arr, powers)\n",
    "    logger.debug(f\"result \\n{result}\")\n",
    "\n",
    "\n",
    "def main():\n",
    "\n",
    "    logger.info(\"Inside main method\")\n",
    "    arr = np.array([0, 1, 2, 3, 4, 5, 6])\n",
    "    powers = np.array([1, 1, 3, 3, 3, 3, 3])\n",
    "    logger.info(\"Calling method\")\n",
    "    powerOfArrayEle(arr,powers)\n",
    "\n",
    "\n",
    "if __name__ == '__main__':\n",
    "    main()"
   ]
  }
 ],
 "metadata": {
  "kernelspec": {
   "display_name": "Python 3",
   "language": "python",
   "name": "python3"
  },
  "language_info": {
   "codemirror_mode": {
    "name": "ipython",
    "version": 3
   },
   "file_extension": ".py",
   "mimetype": "text/x-python",
   "name": "python",
   "nbconvert_exporter": "python",
   "pygments_lexer": "ipython3",
   "version": "3.12.4"
  }
 },
 "nbformat": 4,
 "nbformat_minor": 2
}

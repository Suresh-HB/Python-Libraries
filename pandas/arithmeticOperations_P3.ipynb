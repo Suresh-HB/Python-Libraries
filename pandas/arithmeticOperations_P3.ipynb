{
 "cells": [
  {
   "cell_type": "markdown",
   "metadata": {},
   "source": [
    "'''\n",
    "\n",
    "@Author: Suresh\n",
    "@Date: 2024-07-29\n",
    "@Last Modified by: Suresh\n",
    "@Last Modified: 2024-07-29\n",
    "@Title : Python program to perform Arithmetic operations on pandas arrays. \n",
    "\n",
    "'''"
   ]
  },
  {
   "cell_type": "code",
   "execution_count": 1,
   "metadata": {},
   "outputs": [
    {
     "name": "stderr",
     "output_type": "stream",
     "text": [
      "2024-07-29 16:49:43,270:INFO:oneDimensionalArray_P1:Inside main method\n",
      "2024-07-29 16:49:43,270:INFO:oneDimensionalArray_P1:Calling seriesToList method\n",
      "2024-07-29 16:49:43,270:INFO:oneDimensionalArray_P1:Inside create array method\n",
      "2024-07-29 16:49:43,270:DEBUG:oneDimensionalArray_P1:addition 0     7\n",
      "1     9\n",
      "2    11\n",
      "3    13\n",
      "4    57\n",
      "dtype: int64\n",
      "2024-07-29 16:49:43,276:DEBUG:oneDimensionalArray_P1: substraction 0    -5\n",
      "1    -5\n",
      "2    -5\n",
      "3    -5\n",
      "4   -47\n",
      "dtype: int64\n",
      "2024-07-29 16:49:43,276:DEBUG:oneDimensionalArray_P1: multiplication 0      6\n",
      "1     14\n",
      "2     24\n",
      "3     36\n",
      "4    260\n",
      "dtype: int64\n",
      "2024-07-29 16:49:43,276:DEBUG:oneDimensionalArray_P1: division 0    0.166667\n",
      "1    0.285714\n",
      "2    0.375000\n",
      "3    0.444444\n",
      "4    0.096154\n",
      "dtype: float64\n"
     ]
    }
   ],
   "source": [
    "import pandas as pd\n",
    "import myloggingfile\n",
    "\n",
    "logger = myloggingfile.logger_init('oneDimensionalArray_P1')\n",
    "\n",
    "def   mathOperation(data1,data2) :\n",
    "    \n",
    "    \"\"\"\n",
    "    Description: Function to perform math operation on the pandas arrays.\n",
    "    Parameterrs:\n",
    "    data1,data2 : function taking two arrays as a pearameter for perform math operations\n",
    "    Returns:\n",
    "        None:\n",
    "    \"\"\"\n",
    "\n",
    "    logger.info(\"Inside create array method\")\n",
    "\n",
    "    addition = data1+data2\n",
    "    logger.debug(f\"addition {addition}\")\n",
    "\n",
    "    sub = data1-data2\n",
    "    logger.debug(f\" substraction {sub}\")\n",
    "\n",
    "    mult = data1*data2\n",
    "    logger.debug(f\" multiplication {mult}\")\n",
    "\n",
    "    division = data1/data2\n",
    "    logger.debug(f\" division {division}\")\n",
    "\n",
    "\n",
    "def main():\n",
    "\n",
    "    logger.info(\"Inside main method\")\n",
    "    data1 =pd.Series([1,2,3,4,5])\n",
    "    data2 =pd.Series([6,7,8,9,52])\n",
    "    logger.info(\"Calling seriesToList method\")\n",
    "    mathOperation(data1,data2)  \n",
    "  \n",
    "if __name__=='__main__':\n",
    "    main()"
   ]
  }
 ],
 "metadata": {
  "kernelspec": {
   "display_name": "Python 3",
   "language": "python",
   "name": "python3"
  },
  "language_info": {
   "codemirror_mode": {
    "name": "ipython",
    "version": 3
   },
   "file_extension": ".py",
   "mimetype": "text/x-python",
   "name": "python",
   "nbconvert_exporter": "python",
   "pygments_lexer": "ipython3",
   "version": "3.12.4"
  }
 },
 "nbformat": 4,
 "nbformat_minor": 2
}

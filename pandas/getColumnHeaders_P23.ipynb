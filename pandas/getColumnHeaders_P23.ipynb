{
 "cells": [
  {
   "cell_type": "markdown",
   "metadata": {},
   "source": [
    "@Author: Suresh\n",
    "@Date: 2024-07-31\n",
    "@Last Modified by: Suresh\n",
    "@Last Modified: 2024-07-31 \n",
    "@Title : Python program to get list from DataFrame column headers."
   ]
  },
  {
   "cell_type": "code",
   "execution_count": 1,
   "metadata": {},
   "outputs": [
    {
     "name": "stderr",
     "output_type": "stream",
     "text": [
      "2024-07-31 23:51:59,657:INFO:getColumnHeaders_P23.ipynb: inside main method\n",
      "2024-07-31 23:51:59,657:INFO:getColumnHeaders_P23.ipynb:calling column_header method\n",
      "2024-07-31 23:51:59,667:INFO:getColumnHeaders_P23.ipynb: inside column_header method\n",
      "2024-07-31 23:51:59,668:DEBUG:getColumnHeaders_P23.ipynb:\n",
      "['name', 'score', 'attempts', 'qualify']\n"
     ]
    }
   ],
   "source": [
    "import pandas as pd\n",
    "import numpy as np\n",
    "import myloggingfile\n",
    "\n",
    "logger = myloggingfile.logger_init(\"getColumnHeaders_P23.ipynb\")\n",
    "\n",
    "def column_header(exam_data,labels):\n",
    "\n",
    "    \"\"\"\n",
    "    Description: Function to get list from DataFrame column headers.\n",
    "    Parameters: \n",
    "        exam_data,labels : Function taking given data and it's lables to get the data frame column headers\n",
    "    Returns:\n",
    "        None:\n",
    "    \"\"\"\n",
    "\n",
    "    logger.info(\" inside column_header method\")\n",
    "\n",
    "    df = pd.DataFrame(exam_data,labels) \n",
    "    ch = df.columns.tolist()\n",
    "    logger.debug(f\"\\n{ch}\")\n",
    "\n",
    "def main():\n",
    "    \n",
    "    logger.info(\" inside main method\")\n",
    "\n",
    "    exam_data = {'name': ['Anastasia', 'Dima', 'Katherine', 'James', 'Emily', 'Michael', 'Matthew',\n",
    "    'Laura', 'Kevin', 'Jonas'],\n",
    "    'score': [12.5, 9, 16.5, np.nan, 9, 20, 14.5, np.nan, 8, 19],\n",
    "    'attempts': [1, 3, 2, 3, 2, 3, 1, 1, 2, 1],\n",
    "    'qualify': ['yes', 'no', 'yes', 'no', 'no', 'yes', 'yes', 'no', 'no', 'yes']\n",
    "    }\n",
    "    \n",
    "    labels = ['a', 'b', 'c', 'd', 'e', 'f', 'g', 'h', 'i', 'j']\n",
    "    logger.info(\"calling column_header method\")\n",
    "    column_header(exam_data,labels)\n",
    "\n",
    "\n",
    "if __name__==\"__main__\":\n",
    "    main()\n"
   ]
  }
 ],
 "metadata": {
  "kernelspec": {
   "display_name": "Python 3",
   "language": "python",
   "name": "python3"
  },
  "language_info": {
   "codemirror_mode": {
    "name": "ipython",
    "version": 3
   },
   "file_extension": ".py",
   "mimetype": "text/x-python",
   "name": "python",
   "nbconvert_exporter": "python",
   "pygments_lexer": "ipython3",
   "version": "3.12.4"
  }
 },
 "nbformat": 4,
 "nbformat_minor": 2
}

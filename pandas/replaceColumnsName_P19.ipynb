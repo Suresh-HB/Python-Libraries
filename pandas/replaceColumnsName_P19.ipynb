{
 "cells": [
  {
   "cell_type": "markdown",
   "metadata": {},
   "source": [
    "@Author: Suresh\n",
    "@Date: 2024-07-31\n",
    "@Last Modified by: Suresh\n",
    "@Last Modified: 2024-07-31 \n",
    "@Title : Python program to replace the 'qualify' column contains the values 'yes' and\n",
    "'no' with True and False."
   ]
  },
  {
   "cell_type": "code",
   "execution_count": 2,
   "metadata": {},
   "outputs": [
    {
     "name": "stderr",
     "output_type": "stream",
     "text": [
      "2024-07-31 23:19:51,746:INFO:replaceColumnsName_P19.ipynb: inside main method\n",
      "2024-07-31 23:19:51,747:INFO:replaceColumnsName_P19.ipynb:calling true_false method\n",
      "2024-07-31 23:19:51,750:INFO:replaceColumnsName_P19.ipynb: inside true_false method\n",
      "2024-07-31 23:19:51,756:DEBUG:replaceColumnsName_P19.ipynb:        name  score  attempts  qualify\n",
      "a  Anastasia   12.5         1     True\n",
      "b       Dima    9.0         3    False\n",
      "c  Katherine   16.5         2     True\n",
      "d      James    NaN         3    False\n",
      "e      Emily    9.0         2    False\n",
      "f    Michael   20.0         3     True\n",
      "g    Matthew   14.5         1     True\n",
      "h      Laura    NaN         1    False\n",
      "i      Kevin    8.0         2    False\n",
      "j      Jonas   19.0         1     True\n"
     ]
    }
   ],
   "source": [
    "import pandas as pd\n",
    "import numpy as np\n",
    "import myloggingfile\n",
    "\n",
    "logger = myloggingfile.logger_init(\"replaceColumnsName_P19.ipynb\")\n",
    "\n",
    "def true_false(exam_data,labels):\n",
    "\n",
    "    \"\"\"\n",
    "    Description: Function to replace the 'qualify' column contains the values 'yes' and 'no' with True and False. \n",
    "    Parameters: \n",
    "        exam_data,labels : Function taking given data and it's lables to replace \n",
    "    Returns:\n",
    "        None:\n",
    "    \"\"\"\n",
    "\n",
    "    logger.info(\" inside true_false method\")\n",
    "\n",
    "    df = pd.DataFrame(exam_data,labels)\n",
    "    df['qualify'] = df['qualify'].map({'yes': True, 'no': False})\n",
    "   \n",
    "    df.index = labels\n",
    "    logger.debug(df)\n",
    "\n",
    "\n",
    "def main():\n",
    "    \n",
    "    logger.info(\" inside main method\")\n",
    "\n",
    "    exam_data = {'name': ['Anastasia', 'Dima', 'Katherine', 'James', 'Emily', 'Michael', 'Matthew',\n",
    "    'Laura', 'Kevin', 'Jonas'],\n",
    "    'score': [12.5, 9, 16.5, np.nan, 9, 20, 14.5, np.nan, 8, 19],\n",
    "    'attempts': [1, 3, 2, 3, 2, 3, 1, 1, 2, 1],\n",
    "    'qualify': ['yes', 'no', 'yes', 'no', 'no', 'yes', 'yes', 'no', 'no', 'yes']\n",
    "    }\n",
    "    \n",
    "    labels = ['a', 'b', 'c', 'd', 'e', 'f', 'g', 'h', 'i', 'j']\n",
    "    logger.info(\"calling true_false method\")\n",
    "    true_false(exam_data,labels)\n",
    "\n",
    "\n",
    "if __name__==\"__main__\":\n",
    "    main()\n"
   ]
  }
 ],
 "metadata": {
  "kernelspec": {
   "display_name": "Python 3",
   "language": "python",
   "name": "python3"
  },
  "language_info": {
   "codemirror_mode": {
    "name": "ipython",
    "version": 3
   },
   "file_extension": ".py",
   "mimetype": "text/x-python",
   "name": "python",
   "nbconvert_exporter": "python",
   "pygments_lexer": "ipython3",
   "version": "3.12.4"
  }
 },
 "nbformat": 4,
 "nbformat_minor": 2
}

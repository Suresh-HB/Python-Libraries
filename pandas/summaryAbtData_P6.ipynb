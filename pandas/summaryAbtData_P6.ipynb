{
 "cells": [
  {
   "cell_type": "markdown",
   "metadata": {},
   "source": [
    "'''\n",
    "\n",
    "@Author: Suresh\n",
    "@Date: 2024-07-30\n",
    "@Last Modified by: Suresh\n",
    "@Last Modified: 2024-07-30 \n",
    "@Title : Python program to create and display a DataFrame from a specified dictionary\n",
    "data which has the index labels.\n",
    "\n",
    "'''"
   ]
  },
  {
   "cell_type": "code",
   "execution_count": 1,
   "metadata": {},
   "outputs": [
    {
     "name": "stderr",
     "output_type": "stream",
     "text": [
      "2024-07-31 08:39:48,940:INFO:summaryAbtData_P6:Summary of the basic information about this DataFrame:\n",
      "2024-07-31 08:39:48,950:DEBUG:summaryAbtData_P6: \n",
      "None \n",
      "2024-07-31 08:39:48,950:INFO:summaryAbtData_P6:\n",
      "First 3 rows of the DataFrame:\n",
      "2024-07-31 08:39:48,969:DEBUG:summaryAbtData_P6:\n",
      "         name  score  attempts qualify\n",
      "a  Anastasia   12.5         1     yes\n",
      "b       Dima    9.0         3      no\n",
      "c  Katherine   16.5         2     yes\n",
      "2024-07-31 08:39:48,969:INFO:summaryAbtData_P6:\n",
      "Basic statistics of numerical columns:\n",
      "2024-07-31 08:39:48,979:DEBUG:summaryAbtData_P6:            score   attempts\n",
      "count   8.000000  10.000000\n",
      "mean   13.562500   1.900000\n",
      "std     4.693746   0.875595\n",
      "min     8.000000   1.000000\n",
      "25%     9.000000   1.000000\n",
      "50%    13.500000   2.000000\n",
      "75%    17.125000   2.750000\n",
      "max    20.000000   3.000000 \n"
     ]
    },
    {
     "name": "stdout",
     "output_type": "stream",
     "text": [
      "<class 'pandas.core.frame.DataFrame'>\n",
      "Index: 10 entries, a to j\n",
      "Data columns (total 4 columns):\n",
      " #   Column    Non-Null Count  Dtype  \n",
      "---  ------    --------------  -----  \n",
      " 0   name      10 non-null     object \n",
      " 1   score     8 non-null      float64\n",
      " 2   attempts  10 non-null     int64  \n",
      " 3   qualify   10 non-null     object \n",
      "dtypes: float64(1), int64(1), object(2)\n",
      "memory usage: 400.0+ bytes\n"
     ]
    }
   ],
   "source": [
    "import pandas as pd\n",
    "import numpy as np\n",
    "\n",
    "import myloggingfile \n",
    "logger = myloggingfile.logger_init(\"summaryAbtData_P6\")\n",
    "\n",
    "def main():\n",
    "\n",
    "    exam_data = {\n",
    "        'name': ['Anastasia', 'Dima', 'Katherine', 'James', 'Emily', \n",
    "                'Michael', 'Matthew', 'Laura', 'Kevin', 'Jonas'],\n",
    "        'score': [12.5, 9, 16.5, np.nan, 9, 20, 14.5, np.nan, 8, 19],\n",
    "        'attempts': [1, 3, 2, 3, 2, 3, 1, 1, 2, 1],\n",
    "        'qualify': ['yes', 'no', 'yes', 'no', 'no', 'yes', 'yes', 'no', 'no', 'yes']\n",
    "        }\n",
    "\n",
    "    labels = ['a', 'b', 'c', 'd', 'e', 'f', 'g', 'h', 'i', 'j']\n",
    "    \n",
    "    df = pd.DataFrame(exam_data, index=labels)\n",
    "    \n",
    "    logger.info(\"Summary of the basic information about this DataFrame:\")\n",
    "    logger.debug(f\" \\n{df.info()} \")\n",
    "\n",
    "    logger.info(\"\\nFirst 3 rows of the DataFrame:\")\n",
    "    logger.debug(f\"\\n {df.head(3)}\")\n",
    "\n",
    "    logger.info(\"\\nBasic statistics of numerical columns:\")\n",
    "    logger.debug(f\" {df.describe()} \")\n",
    "\n",
    "if __name__ == '__main__':\n",
    "    main()"
   ]
  }
 ],
 "metadata": {
  "kernelspec": {
   "display_name": "Python 3",
   "language": "python",
   "name": "python3"
  },
  "language_info": {
   "codemirror_mode": {
    "name": "ipython",
    "version": 3
   },
   "file_extension": ".py",
   "mimetype": "text/x-python",
   "name": "python",
   "nbconvert_exporter": "python",
   "pygments_lexer": "ipython3",
   "version": "3.12.4"
  }
 },
 "nbformat": 4,
 "nbformat_minor": 2
}

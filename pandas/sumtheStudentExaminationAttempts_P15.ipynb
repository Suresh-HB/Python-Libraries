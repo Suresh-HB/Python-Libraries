{
 "cells": [
  {
   "cell_type": "markdown",
   "metadata": {},
   "source": [
    "@Author: Suresh\n",
    "@Date: 2024-07-31\n",
    "@Last Modified by: Suresh\n",
    "@Last Modified: 2024-07-31 \n",
    "@Title : Python program to calculate the sum of the examination attempts by the students."
   ]
  },
  {
   "cell_type": "code",
   "execution_count": null,
   "metadata": {},
   "outputs": [],
   "source": [
    "import pandas as pd\n",
    "import numpy as np\n",
    "import myloggingfile\n",
    "\n",
    "logger = myloggingfile.logger_init(\"changeTheScoreInRow_P14.ipynb\")\n",
    "\n",
    "def sum_student_attempts(exam_data,labels):\n",
    "   \n",
    "    \"\"\"\n",
    "    Description: Function to calculate the sum of the examination attempts by the students.\n",
    "    Parameters: \n",
    "        exam_data,labels : Function taking given data and it's lables to sum all the student attempts of examination\n",
    "    Returns:\n",
    "        None:\n",
    "    \"\"\"\n",
    "\n",
    "    logger.info(\" inside sum_student_attempts method\")\n",
    "    df = pd.DataFrame(exam_data)\n",
    "    logger.debug(df)\n",
    "\n",
    "    df.index=labels\n",
    "    sum = df['attempts'].sum()\n",
    "    logger.debug(f\"sum of all the attempts is {sum}\")\n",
    "\n",
    "\n",
    "def main():\n",
    "    \n",
    "    logger.info(\" inside main method \")\n",
    "\n",
    "    exam_data = {'name': ['Anastasia', 'Dima', 'Katherine', 'James', 'Emily', 'Michael', 'Matthew',\n",
    "    'Laura', 'Kevin', 'Jonas'],\n",
    "    'score': [12.5, 9, 16.5, np.nan, 9, 20, 14.5, np.nan, 8, 19],\n",
    "    'attempts': [1, 3, 2, 3, 2, 3, 1, 1, 2, 1],\n",
    "    'qualify': ['yes', 'no', 'yes', 'no', 'no', 'yes', 'yes', 'no', 'no', 'yes']}\n",
    "    labels = ['a', 'b', 'c', 'd', 'e', 'f', 'g', 'h', 'i', 'j']\n",
    "\n",
    "    logger.info(\"calling sum_student_attempts method\")\n",
    "    sum_student_attempts(exam_data,labels)\n",
    "\n",
    "if __name__ == '__main__':\n",
    "    main()"
   ]
  }
 ],
 "metadata": {
  "kernelspec": {
   "display_name": "Python 3",
   "language": "python",
   "name": "python3"
  },
  "language_info": {
   "codemirror_mode": {
    "name": "ipython",
    "version": 3
   },
   "file_extension": ".py",
   "mimetype": "text/x-python",
   "name": "python",
   "nbconvert_exporter": "python",
   "pygments_lexer": "ipython3",
   "version": "3.12.4"
  }
 },
 "nbformat": 4,
 "nbformat_minor": 2
}

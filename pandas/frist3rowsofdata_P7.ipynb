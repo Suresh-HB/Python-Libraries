{
 "cells": [
  {
   "cell_type": "markdown",
   "metadata": {},
   "source": [
    "'''\n",
    "\n",
    "@Author: Suresh\n",
    "@Date: 2024-07-31\n",
    "@Last Modified by: Suresh\n",
    "@Last Modified: 2024-07-31 \n",
    "@Title : Python program to get the first 3 rows of a given DataFrame\n",
    "\n",
    "'''"
   ]
  },
  {
   "cell_type": "code",
   "execution_count": 4,
   "metadata": {},
   "outputs": [
    {
     "name": "stderr",
     "output_type": "stream",
     "text": [
      "2024-07-31 09:03:46,710:INFO:dataFrame_P5: Inside main method\n",
      "2024-07-31 09:03:46,710:INFO:dataFrame_P5: Inside main method\n",
      "2024-07-31 09:03:46,710:INFO:dataFrame_P5: Inside main method\n",
      "2024-07-31 09:03:46,710:INFO:dataFrame_P5: Inside main method\n",
      "2024-07-31 09:03:46,714:DEBUG:dataFrame_P5: given data \n",
      "{'name': ['Anastasia', 'Dima', 'Katherine', 'James', 'Emily', 'Michael', 'Matthew', 'Laura', 'Kevin', 'Jonas'], 'score': [12.5, 9, 16.5, nan, 9, 20, 14.5, nan, 8, 19], 'attempts': [1, 3, 2, 3, 2, 3, 1, 1, 2, 1], 'qualify': ['yes', 'no', 'yes', 'no', 'no', 'yes', 'yes', 'no', 'no', 'yes']}\n",
      "2024-07-31 09:03:46,714:DEBUG:dataFrame_P5: given data \n",
      "{'name': ['Anastasia', 'Dima', 'Katherine', 'James', 'Emily', 'Michael', 'Matthew', 'Laura', 'Kevin', 'Jonas'], 'score': [12.5, 9, 16.5, nan, 9, 20, 14.5, nan, 8, 19], 'attempts': [1, 3, 2, 3, 2, 3, 1, 1, 2, 1], 'qualify': ['yes', 'no', 'yes', 'no', 'no', 'yes', 'yes', 'no', 'no', 'yes']}\n",
      "2024-07-31 09:03:46,714:DEBUG:dataFrame_P5: given data \n",
      "{'name': ['Anastasia', 'Dima', 'Katherine', 'James', 'Emily', 'Michael', 'Matthew', 'Laura', 'Kevin', 'Jonas'], 'score': [12.5, 9, 16.5, nan, 9, 20, 14.5, nan, 8, 19], 'attempts': [1, 3, 2, 3, 2, 3, 1, 1, 2, 1], 'qualify': ['yes', 'no', 'yes', 'no', 'no', 'yes', 'yes', 'no', 'no', 'yes']}\n",
      "2024-07-31 09:03:46,714:DEBUG:dataFrame_P5: given data \n",
      "{'name': ['Anastasia', 'Dima', 'Katherine', 'James', 'Emily', 'Michael', 'Matthew', 'Laura', 'Kevin', 'Jonas'], 'score': [12.5, 9, 16.5, nan, 9, 20, 14.5, nan, 8, 19], 'attempts': [1, 3, 2, 3, 2, 3, 1, 1, 2, 1], 'qualify': ['yes', 'no', 'yes', 'no', 'no', 'yes', 'yes', 'no', 'no', 'yes']}\n",
      "2024-07-31 09:03:46,721:INFO:dataFrame_P5: calling get_frist_three_rows method \n",
      "2024-07-31 09:03:46,721:INFO:dataFrame_P5: calling get_frist_three_rows method \n",
      "2024-07-31 09:03:46,721:INFO:dataFrame_P5: calling get_frist_three_rows method \n",
      "2024-07-31 09:03:46,721:INFO:dataFrame_P5: calling get_frist_three_rows method \n",
      "2024-07-31 09:03:46,721:INFO:dataFrame_P5: inside get_frist_three_rows method\n",
      "2024-07-31 09:03:46,721:INFO:dataFrame_P5: inside get_frist_three_rows method\n",
      "2024-07-31 09:03:46,721:INFO:dataFrame_P5: inside get_frist_three_rows method\n",
      "2024-07-31 09:03:46,721:INFO:dataFrame_P5: inside get_frist_three_rows method\n"
     ]
    },
    {
     "name": "stdout",
     "output_type": "stream",
     "text": [
      "        name  score  attempts qualify\n",
      "a  Anastasia   12.5         1     yes\n",
      "b       Dima    9.0         3      no\n",
      "c  Katherine   16.5         2     yes\n"
     ]
    }
   ],
   "source": [
    "import pandas as pd\n",
    "import numpy as np\n",
    "import myloggingfile\n",
    "\n",
    "logger = myloggingfile.logger_init(\"frist3rowsofdata_P7.ipynb\")\n",
    "\n",
    "\n",
    "def get_frist_three_rows(exam_data,labels):\n",
    "\n",
    "    \"\"\"\n",
    "    Description: Function to  get the frist 3 rows of the data from the given data.\n",
    "    Parameters: \n",
    "    exam_data,labels : Function taking given data and it's lables for get the required number of records  \n",
    "    Returns:\n",
    "        None:\n",
    "    \"\"\"\n",
    "\n",
    "    logger.info(\" inside get_frist_three_rows method\")\n",
    "    \n",
    "    df = pd.DataFrame(exam_data)\n",
    "    df.index=labels\n",
    "    frist_three = df.head(3)\n",
    "    print(frist_three)\n",
    "\n",
    "\n",
    "def main():\n",
    "\n",
    "    logger.info(\" Inside main method\")\n",
    "\n",
    "    exam_data = {'name': ['Anastasia', 'Dima', 'Katherine', 'James', 'Emily', 'Michael', 'Matthew',\n",
    "    'Laura', 'Kevin', 'Jonas'],\n",
    "    'score': [12.5, 9, 16.5, np.nan, 9, 20, 14.5, np.nan, 8, 19],\n",
    "    'attempts': [1, 3, 2, 3, 2, 3, 1, 1, 2, 1],\n",
    "    'qualify': ['yes', 'no', 'yes', 'no', 'no', 'yes', 'yes', 'no', 'no', 'yes']}\n",
    "    labels = ['a', 'b', 'c', 'd', 'e', 'f', 'g', 'h', 'i', 'j']\n",
    "    \n",
    "    logger.debug(f\" given data \\n{exam_data}\")\n",
    "    logger.debug(f\" given labels \\n{labels}\")\n",
    "\n",
    "    logger.info(\" calling get_frist_three_rows method \")\n",
    "    get_frist_three_rows(exam_data,labels)\n",
    "\n",
    "\n",
    "if __name__ == '__main__':\n",
    "    main()"
   ]
  }
 ],
 "metadata": {
  "kernelspec": {
   "display_name": "Python 3",
   "language": "python",
   "name": "python3"
  },
  "language_info": {
   "codemirror_mode": {
    "name": "ipython",
    "version": 3
   },
   "file_extension": ".py",
   "mimetype": "text/x-python",
   "name": "python",
   "nbconvert_exporter": "python",
   "pygments_lexer": "ipython3",
   "version": "3.12.4"
  }
 },
 "nbformat": 4,
 "nbformat_minor": 2
}

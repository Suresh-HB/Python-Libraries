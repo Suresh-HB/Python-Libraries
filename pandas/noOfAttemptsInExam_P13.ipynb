{
 "cells": [
  {
   "cell_type": "markdown",
   "metadata": {},
   "source": [
    "@Author: Suresh\n",
    "@Date: 2024-07-31\n",
    "@Last Modified by: Suresh\n",
    "@Last Modified: 2024-07-31 \n",
    "@Title : Python program to select the rows where number of attempts in the\n",
    "examination is less than 2 and score greater than 15"
   ]
  },
  {
   "cell_type": "code",
   "execution_count": null,
   "metadata": {},
   "outputs": [],
   "source": [
    "import pandas as pd\n",
    "import numpy as np\n",
    "import myloggingfile\n",
    "\n",
    "logger = myloggingfile.logger_init(\"noOfAttemptsInExam_P13.ipynb\")\n",
    "\n",
    "\n",
    "def noOfAttempts_exam(exam_data,labels):\n",
    "    \n",
    "    \"\"\"\n",
    "    Description: Function to select the rows where number of attempts in the examination\n",
    "    is less than 2 and score greater than 15\n",
    "    Parameters: \n",
    "        exam_data,labels : Function taking given data and it's lables to selects who have scored more \n",
    "        than 15 in exam with less than 2 attempts.\n",
    "    Returns:\n",
    "        None:\n",
    "    \"\"\"\n",
    "    \n",
    "    logger.info(\" Inside noOfAttempts_exam method\")\n",
    "\n",
    "    df = pd.DataFrame(exam_data,labels)\n",
    "    logger.debug(df.to_string)\n",
    "\n",
    "    sc = df[(df['attempts']<2)&(df['score']>15)]\n",
    "    print(sc)\n",
    "     \n",
    "\n",
    "def main():\n",
    "\n",
    "    logger.info(\"Insdie main method\")\n",
    "\n",
    "    exam_data = {'name': ['Anastasia', 'Dima', 'Katherine', 'James', 'Emily', 'Michael', 'Matthew',\n",
    "    'Laura', 'Kevin', 'Jonas'],\n",
    "    'score': [12.5, 9, 16.5, np.nan, 9, 20, 14.5, np.nan, 8, 19],\n",
    "    'attempts': [1, 3, 2, 3, 2, 3, 1, 1, 2, 1],\n",
    "    'qualify': ['yes', 'no', 'yes', 'no', 'no', 'yes', 'yes', 'no', 'no', 'yes']}\n",
    "    labels = ['a', 'b', 'c', 'd', 'e', 'f', 'g', 'h', 'i', 'j']\n",
    "\n",
    "    logger.debug(f\"given data \\n {exam_data}\")\n",
    "    logger.debug(f\"given labels \\n {labels}\")\n",
    "\n",
    "    logger.info(\" calling noOfAttempts_exam method\")\n",
    "    noOfAttempts_exam(exam_data,labels)\n",
    "\n",
    "\n",
    "if __name__ == '__main__':\n",
    "    main()"
   ]
  }
 ],
 "metadata": {
  "kernelspec": {
   "display_name": "Python 3",
   "language": "python",
   "name": "python3"
  },
  "language_info": {
   "codemirror_mode": {
    "name": "ipython",
    "version": 3
   },
   "file_extension": ".py",
   "mimetype": "text/x-python",
   "name": "python",
   "nbconvert_exporter": "python",
   "pygments_lexer": "ipython3",
   "version": "3.12.4"
  }
 },
 "nbformat": 4,
 "nbformat_minor": 2
}
